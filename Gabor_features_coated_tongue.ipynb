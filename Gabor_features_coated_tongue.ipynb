{
  "nbformat": 4,
  "nbformat_minor": 0,
  "metadata": {
    "colab": {
      "name": "Gabor features-coated tongue.ipynb",
      "provenance": [],
      "mount_file_id": "https://gist.github.com/jyotidabass/bb127912251e0d6c2e83968e869604f4#file-gabor-features-coated-tongue-ipynb",
      "authorship_tag": "ABX9TyPOZhiMVdlYv3Yh3ar3+2U3",
      "include_colab_link": true
    },
    "kernelspec": {
      "name": "python3",
      "display_name": "Python 3"
    },
    "language_info": {
      "name": "python"
    }
  },
  "cells": [
    {
      "cell_type": "markdown",
      "metadata": {
        "id": "view-in-github",
        "colab_type": "text"
      },
      "source": [
        "<a href=\"https://colab.research.google.com/github/jyotidabass/Gabor-feature-extraction-tongue-coated-non-coated/blob/main/Gabor_features_coated_tongue.ipynb\" target=\"_parent\"><img src=\"https://colab.research.google.com/assets/colab-badge.svg\" alt=\"Open In Colab\"/></a>"
      ]
    },
    {
      "cell_type": "code",
      "source": [
        "import numpy as np \n",
        "import matplotlib.pyplot as plt \n",
        "import pandas as pd\n",
        "\n",
        "from sklearn.ensemble import RandomForestClassifier\n",
        "from sklearn.model_selection import train_test_split"
      ],
      "metadata": {
        "id": "kvisdRcbaPMw"
      },
      "execution_count": 37,
      "outputs": []
    },
    {
      "cell_type": "code",
      "source": [
        "data = pd.read_csv ('/content/Extracted_Gabor_features.csv')"
      ],
      "metadata": {
        "id": "G_Moi9QraXoB"
      },
      "execution_count": 38,
      "outputs": []
    },
    {
      "cell_type": "code",
      "source": [
        "data.describe()"
      ],
      "metadata": {
        "colab": {
          "base_uri": "https://localhost:8080/",
          "height": 394
        },
        "id": "igj19Is3avNs",
        "outputId": "96376061-fbd2-4e0a-d393-88e9df9f6f99"
      },
      "execution_count": 39,
      "outputs": [
        {
          "output_type": "execute_result",
          "data": {
            "text/plain": [
              "                  1             2             3             4             5  \\\n",
              "count  4.640000e+02  4.640000e+02  4.640000e+02  4.640000e+02  4.640000e+02   \n",
              "mean   2.511906e+07  4.959446e+07  9.053014e+07  6.199385e+07  2.936899e+07   \n",
              "std    4.702290e+07  7.746620e+07  1.161049e+08  8.839012e+07  5.313870e+07   \n",
              "min    6.477500e+04  5.009860e+05  1.091876e+06  6.469430e+05  1.274000e+05   \n",
              "25%    3.291926e+06  9.406018e+06  2.143370e+07  1.260361e+07  4.023322e+06   \n",
              "50%    1.063016e+07  2.400969e+07  5.072083e+07  3.181759e+07  1.252580e+07   \n",
              "75%    2.598324e+07  5.582603e+07  1.122424e+08  7.202788e+07  2.962484e+07   \n",
              "max    4.090433e+08  6.304719e+08  7.954644e+08  6.388644e+08  4.626745e+08   \n",
              "\n",
              "                  6             7             8             9            10  \\\n",
              "count  4.640000e+02  4.640000e+02  4.640000e+02  4.640000e+02  4.640000e+02   \n",
              "mean   2.511906e+07  4.959446e+07  9.053014e+07  6.199385e+07  2.936899e+07   \n",
              "std    4.702290e+07  7.746620e+07  1.161049e+08  8.839012e+07  5.313870e+07   \n",
              "min    6.477500e+04  5.009860e+05  1.091876e+06  6.469430e+05  1.274000e+05   \n",
              "25%    3.291926e+06  9.406018e+06  2.143370e+07  1.260361e+07  4.023322e+06   \n",
              "50%    1.063016e+07  2.400969e+07  5.072083e+07  3.181759e+07  1.252580e+07   \n",
              "75%    2.598324e+07  5.582603e+07  1.122424e+08  7.202788e+07  2.962484e+07   \n",
              "max    4.090433e+08  6.304719e+08  7.954644e+08  6.388644e+08  4.626745e+08   \n",
              "\n",
              "       ...            42            43            44            45  \\\n",
              "count  ...  4.640000e+02  4.640000e+02  4.640000e+02  4.640000e+02   \n",
              "mean   ...  2.348367e+08  1.582986e+08  8.171060e+07  8.644726e+07   \n",
              "std    ...  2.938550e+08  2.060749e+08  1.063856e+08  1.125524e+08   \n",
              "min    ...  2.645470e+06  1.573811e+06  8.120670e+05  8.592330e+05   \n",
              "25%    ...  5.741397e+07  3.572282e+07  1.843336e+07  1.950193e+07   \n",
              "50%    ...  1.353459e+08  9.103637e+07  4.697276e+07  4.969579e+07   \n",
              "75%    ...  2.928153e+08  1.894549e+08  9.777369e+07  1.034424e+08   \n",
              "max    ...  2.466931e+09  1.747812e+09  9.019449e+08  9.542327e+08   \n",
              "\n",
              "                 46            47            48            49            50  \\\n",
              "count  4.640000e+02  4.640000e+02  4.640000e+02  4.640000e+02  4.640000e+02   \n",
              "mean   2.531084e+08  2.348362e+08  1.582986e+08  8.171056e+07  8.644725e+07   \n",
              "std    3.167737e+08  2.938544e+08  2.060738e+08  1.063856e+08  1.125524e+08   \n",
              "min    2.957625e+06  2.645217e+06  1.573829e+06  8.120320e+05  8.590620e+05   \n",
              "25%    6.292513e+07  5.741406e+07  3.572283e+07  1.843380e+07  1.950178e+07   \n",
              "50%    1.457925e+08  1.353478e+08  9.103622e+07  4.697270e+07  4.969575e+07   \n",
              "75%    3.199720e+08  2.928158e+08  1.894561e+08  9.777400e+07  1.034429e+08   \n",
              "max    2.593724e+09  2.466930e+09  1.747802e+09  9.019450e+08  9.542332e+08   \n",
              "\n",
              "               51  \n",
              "count  464.000000  \n",
              "mean     0.504310  \n",
              "std      0.500521  \n",
              "min      0.000000  \n",
              "25%      0.000000  \n",
              "50%      1.000000  \n",
              "75%      1.000000  \n",
              "max      1.000000  \n",
              "\n",
              "[8 rows x 51 columns]"
            ],
            "text/html": [
              "\n",
              "  <div id=\"df-83fc5bb5-6df3-480e-9dff-e68eb761dfc0\">\n",
              "    <div class=\"colab-df-container\">\n",
              "      <div>\n",
              "<style scoped>\n",
              "    .dataframe tbody tr th:only-of-type {\n",
              "        vertical-align: middle;\n",
              "    }\n",
              "\n",
              "    .dataframe tbody tr th {\n",
              "        vertical-align: top;\n",
              "    }\n",
              "\n",
              "    .dataframe thead th {\n",
              "        text-align: right;\n",
              "    }\n",
              "</style>\n",
              "<table border=\"1\" class=\"dataframe\">\n",
              "  <thead>\n",
              "    <tr style=\"text-align: right;\">\n",
              "      <th></th>\n",
              "      <th>1</th>\n",
              "      <th>2</th>\n",
              "      <th>3</th>\n",
              "      <th>4</th>\n",
              "      <th>5</th>\n",
              "      <th>6</th>\n",
              "      <th>7</th>\n",
              "      <th>8</th>\n",
              "      <th>9</th>\n",
              "      <th>10</th>\n",
              "      <th>...</th>\n",
              "      <th>42</th>\n",
              "      <th>43</th>\n",
              "      <th>44</th>\n",
              "      <th>45</th>\n",
              "      <th>46</th>\n",
              "      <th>47</th>\n",
              "      <th>48</th>\n",
              "      <th>49</th>\n",
              "      <th>50</th>\n",
              "      <th>51</th>\n",
              "    </tr>\n",
              "  </thead>\n",
              "  <tbody>\n",
              "    <tr>\n",
              "      <th>count</th>\n",
              "      <td>4.640000e+02</td>\n",
              "      <td>4.640000e+02</td>\n",
              "      <td>4.640000e+02</td>\n",
              "      <td>4.640000e+02</td>\n",
              "      <td>4.640000e+02</td>\n",
              "      <td>4.640000e+02</td>\n",
              "      <td>4.640000e+02</td>\n",
              "      <td>4.640000e+02</td>\n",
              "      <td>4.640000e+02</td>\n",
              "      <td>4.640000e+02</td>\n",
              "      <td>...</td>\n",
              "      <td>4.640000e+02</td>\n",
              "      <td>4.640000e+02</td>\n",
              "      <td>4.640000e+02</td>\n",
              "      <td>4.640000e+02</td>\n",
              "      <td>4.640000e+02</td>\n",
              "      <td>4.640000e+02</td>\n",
              "      <td>4.640000e+02</td>\n",
              "      <td>4.640000e+02</td>\n",
              "      <td>4.640000e+02</td>\n",
              "      <td>464.000000</td>\n",
              "    </tr>\n",
              "    <tr>\n",
              "      <th>mean</th>\n",
              "      <td>2.511906e+07</td>\n",
              "      <td>4.959446e+07</td>\n",
              "      <td>9.053014e+07</td>\n",
              "      <td>6.199385e+07</td>\n",
              "      <td>2.936899e+07</td>\n",
              "      <td>2.511906e+07</td>\n",
              "      <td>4.959446e+07</td>\n",
              "      <td>9.053014e+07</td>\n",
              "      <td>6.199385e+07</td>\n",
              "      <td>2.936899e+07</td>\n",
              "      <td>...</td>\n",
              "      <td>2.348367e+08</td>\n",
              "      <td>1.582986e+08</td>\n",
              "      <td>8.171060e+07</td>\n",
              "      <td>8.644726e+07</td>\n",
              "      <td>2.531084e+08</td>\n",
              "      <td>2.348362e+08</td>\n",
              "      <td>1.582986e+08</td>\n",
              "      <td>8.171056e+07</td>\n",
              "      <td>8.644725e+07</td>\n",
              "      <td>0.504310</td>\n",
              "    </tr>\n",
              "    <tr>\n",
              "      <th>std</th>\n",
              "      <td>4.702290e+07</td>\n",
              "      <td>7.746620e+07</td>\n",
              "      <td>1.161049e+08</td>\n",
              "      <td>8.839012e+07</td>\n",
              "      <td>5.313870e+07</td>\n",
              "      <td>4.702290e+07</td>\n",
              "      <td>7.746620e+07</td>\n",
              "      <td>1.161049e+08</td>\n",
              "      <td>8.839012e+07</td>\n",
              "      <td>5.313870e+07</td>\n",
              "      <td>...</td>\n",
              "      <td>2.938550e+08</td>\n",
              "      <td>2.060749e+08</td>\n",
              "      <td>1.063856e+08</td>\n",
              "      <td>1.125524e+08</td>\n",
              "      <td>3.167737e+08</td>\n",
              "      <td>2.938544e+08</td>\n",
              "      <td>2.060738e+08</td>\n",
              "      <td>1.063856e+08</td>\n",
              "      <td>1.125524e+08</td>\n",
              "      <td>0.500521</td>\n",
              "    </tr>\n",
              "    <tr>\n",
              "      <th>min</th>\n",
              "      <td>6.477500e+04</td>\n",
              "      <td>5.009860e+05</td>\n",
              "      <td>1.091876e+06</td>\n",
              "      <td>6.469430e+05</td>\n",
              "      <td>1.274000e+05</td>\n",
              "      <td>6.477500e+04</td>\n",
              "      <td>5.009860e+05</td>\n",
              "      <td>1.091876e+06</td>\n",
              "      <td>6.469430e+05</td>\n",
              "      <td>1.274000e+05</td>\n",
              "      <td>...</td>\n",
              "      <td>2.645470e+06</td>\n",
              "      <td>1.573811e+06</td>\n",
              "      <td>8.120670e+05</td>\n",
              "      <td>8.592330e+05</td>\n",
              "      <td>2.957625e+06</td>\n",
              "      <td>2.645217e+06</td>\n",
              "      <td>1.573829e+06</td>\n",
              "      <td>8.120320e+05</td>\n",
              "      <td>8.590620e+05</td>\n",
              "      <td>0.000000</td>\n",
              "    </tr>\n",
              "    <tr>\n",
              "      <th>25%</th>\n",
              "      <td>3.291926e+06</td>\n",
              "      <td>9.406018e+06</td>\n",
              "      <td>2.143370e+07</td>\n",
              "      <td>1.260361e+07</td>\n",
              "      <td>4.023322e+06</td>\n",
              "      <td>3.291926e+06</td>\n",
              "      <td>9.406018e+06</td>\n",
              "      <td>2.143370e+07</td>\n",
              "      <td>1.260361e+07</td>\n",
              "      <td>4.023322e+06</td>\n",
              "      <td>...</td>\n",
              "      <td>5.741397e+07</td>\n",
              "      <td>3.572282e+07</td>\n",
              "      <td>1.843336e+07</td>\n",
              "      <td>1.950193e+07</td>\n",
              "      <td>6.292513e+07</td>\n",
              "      <td>5.741406e+07</td>\n",
              "      <td>3.572283e+07</td>\n",
              "      <td>1.843380e+07</td>\n",
              "      <td>1.950178e+07</td>\n",
              "      <td>0.000000</td>\n",
              "    </tr>\n",
              "    <tr>\n",
              "      <th>50%</th>\n",
              "      <td>1.063016e+07</td>\n",
              "      <td>2.400969e+07</td>\n",
              "      <td>5.072083e+07</td>\n",
              "      <td>3.181759e+07</td>\n",
              "      <td>1.252580e+07</td>\n",
              "      <td>1.063016e+07</td>\n",
              "      <td>2.400969e+07</td>\n",
              "      <td>5.072083e+07</td>\n",
              "      <td>3.181759e+07</td>\n",
              "      <td>1.252580e+07</td>\n",
              "      <td>...</td>\n",
              "      <td>1.353459e+08</td>\n",
              "      <td>9.103637e+07</td>\n",
              "      <td>4.697276e+07</td>\n",
              "      <td>4.969579e+07</td>\n",
              "      <td>1.457925e+08</td>\n",
              "      <td>1.353478e+08</td>\n",
              "      <td>9.103622e+07</td>\n",
              "      <td>4.697270e+07</td>\n",
              "      <td>4.969575e+07</td>\n",
              "      <td>1.000000</td>\n",
              "    </tr>\n",
              "    <tr>\n",
              "      <th>75%</th>\n",
              "      <td>2.598324e+07</td>\n",
              "      <td>5.582603e+07</td>\n",
              "      <td>1.122424e+08</td>\n",
              "      <td>7.202788e+07</td>\n",
              "      <td>2.962484e+07</td>\n",
              "      <td>2.598324e+07</td>\n",
              "      <td>5.582603e+07</td>\n",
              "      <td>1.122424e+08</td>\n",
              "      <td>7.202788e+07</td>\n",
              "      <td>2.962484e+07</td>\n",
              "      <td>...</td>\n",
              "      <td>2.928153e+08</td>\n",
              "      <td>1.894549e+08</td>\n",
              "      <td>9.777369e+07</td>\n",
              "      <td>1.034424e+08</td>\n",
              "      <td>3.199720e+08</td>\n",
              "      <td>2.928158e+08</td>\n",
              "      <td>1.894561e+08</td>\n",
              "      <td>9.777400e+07</td>\n",
              "      <td>1.034429e+08</td>\n",
              "      <td>1.000000</td>\n",
              "    </tr>\n",
              "    <tr>\n",
              "      <th>max</th>\n",
              "      <td>4.090433e+08</td>\n",
              "      <td>6.304719e+08</td>\n",
              "      <td>7.954644e+08</td>\n",
              "      <td>6.388644e+08</td>\n",
              "      <td>4.626745e+08</td>\n",
              "      <td>4.090433e+08</td>\n",
              "      <td>6.304719e+08</td>\n",
              "      <td>7.954644e+08</td>\n",
              "      <td>6.388644e+08</td>\n",
              "      <td>4.626745e+08</td>\n",
              "      <td>...</td>\n",
              "      <td>2.466931e+09</td>\n",
              "      <td>1.747812e+09</td>\n",
              "      <td>9.019449e+08</td>\n",
              "      <td>9.542327e+08</td>\n",
              "      <td>2.593724e+09</td>\n",
              "      <td>2.466930e+09</td>\n",
              "      <td>1.747802e+09</td>\n",
              "      <td>9.019450e+08</td>\n",
              "      <td>9.542332e+08</td>\n",
              "      <td>1.000000</td>\n",
              "    </tr>\n",
              "  </tbody>\n",
              "</table>\n",
              "<p>8 rows × 51 columns</p>\n",
              "</div>\n",
              "      <button class=\"colab-df-convert\" onclick=\"convertToInteractive('df-83fc5bb5-6df3-480e-9dff-e68eb761dfc0')\"\n",
              "              title=\"Convert this dataframe to an interactive table.\"\n",
              "              style=\"display:none;\">\n",
              "        \n",
              "  <svg xmlns=\"http://www.w3.org/2000/svg\" height=\"24px\"viewBox=\"0 0 24 24\"\n",
              "       width=\"24px\">\n",
              "    <path d=\"M0 0h24v24H0V0z\" fill=\"none\"/>\n",
              "    <path d=\"M18.56 5.44l.94 2.06.94-2.06 2.06-.94-2.06-.94-.94-2.06-.94 2.06-2.06.94zm-11 1L8.5 8.5l.94-2.06 2.06-.94-2.06-.94L8.5 2.5l-.94 2.06-2.06.94zm10 10l.94 2.06.94-2.06 2.06-.94-2.06-.94-.94-2.06-.94 2.06-2.06.94z\"/><path d=\"M17.41 7.96l-1.37-1.37c-.4-.4-.92-.59-1.43-.59-.52 0-1.04.2-1.43.59L10.3 9.45l-7.72 7.72c-.78.78-.78 2.05 0 2.83L4 21.41c.39.39.9.59 1.41.59.51 0 1.02-.2 1.41-.59l7.78-7.78 2.81-2.81c.8-.78.8-2.07 0-2.86zM5.41 20L4 18.59l7.72-7.72 1.47 1.35L5.41 20z\"/>\n",
              "  </svg>\n",
              "      </button>\n",
              "      \n",
              "  <style>\n",
              "    .colab-df-container {\n",
              "      display:flex;\n",
              "      flex-wrap:wrap;\n",
              "      gap: 12px;\n",
              "    }\n",
              "\n",
              "    .colab-df-convert {\n",
              "      background-color: #E8F0FE;\n",
              "      border: none;\n",
              "      border-radius: 50%;\n",
              "      cursor: pointer;\n",
              "      display: none;\n",
              "      fill: #1967D2;\n",
              "      height: 32px;\n",
              "      padding: 0 0 0 0;\n",
              "      width: 32px;\n",
              "    }\n",
              "\n",
              "    .colab-df-convert:hover {\n",
              "      background-color: #E2EBFA;\n",
              "      box-shadow: 0px 1px 2px rgba(60, 64, 67, 0.3), 0px 1px 3px 1px rgba(60, 64, 67, 0.15);\n",
              "      fill: #174EA6;\n",
              "    }\n",
              "\n",
              "    [theme=dark] .colab-df-convert {\n",
              "      background-color: #3B4455;\n",
              "      fill: #D2E3FC;\n",
              "    }\n",
              "\n",
              "    [theme=dark] .colab-df-convert:hover {\n",
              "      background-color: #434B5C;\n",
              "      box-shadow: 0px 1px 3px 1px rgba(0, 0, 0, 0.15);\n",
              "      filter: drop-shadow(0px 1px 2px rgba(0, 0, 0, 0.3));\n",
              "      fill: #FFFFFF;\n",
              "    }\n",
              "  </style>\n",
              "\n",
              "      <script>\n",
              "        const buttonEl =\n",
              "          document.querySelector('#df-83fc5bb5-6df3-480e-9dff-e68eb761dfc0 button.colab-df-convert');\n",
              "        buttonEl.style.display =\n",
              "          google.colab.kernel.accessAllowed ? 'block' : 'none';\n",
              "\n",
              "        async function convertToInteractive(key) {\n",
              "          const element = document.querySelector('#df-83fc5bb5-6df3-480e-9dff-e68eb761dfc0');\n",
              "          const dataTable =\n",
              "            await google.colab.kernel.invokeFunction('convertToInteractive',\n",
              "                                                     [key], {});\n",
              "          if (!dataTable) return;\n",
              "\n",
              "          const docLinkHtml = 'Like what you see? Visit the ' +\n",
              "            '<a target=\"_blank\" href=https://colab.research.google.com/notebooks/data_table.ipynb>data table notebook</a>'\n",
              "            + ' to learn more about interactive tables.';\n",
              "          element.innerHTML = '';\n",
              "          dataTable['output_type'] = 'display_data';\n",
              "          await google.colab.output.renderOutput(dataTable, element);\n",
              "          const docLink = document.createElement('div');\n",
              "          docLink.innerHTML = docLinkHtml;\n",
              "          element.appendChild(docLink);\n",
              "        }\n",
              "      </script>\n",
              "    </div>\n",
              "  </div>\n",
              "  "
            ]
          },
          "metadata": {},
          "execution_count": 39
        }
      ]
    },
    {
      "cell_type": "code",
      "source": [
        "X , Y = data.values [ : , : -1 ] , data.values [ : , -1 ] "
      ],
      "metadata": {
        "id": "frrCvuUaa3HH"
      },
      "execution_count": 40,
      "outputs": []
    },
    {
      "cell_type": "code",
      "source": [
        "print ( \"classes are : \" , np.unique ( Y ) )  "
      ],
      "metadata": {
        "colab": {
          "base_uri": "https://localhost:8080/"
        },
        "id": "QAyIbkSCa5X-",
        "outputId": "8759e0d5-c0ad-403a-ca38-c8c7f12f9a78"
      },
      "execution_count": 41,
      "outputs": [
        {
          "output_type": "stream",
          "name": "stdout",
          "text": [
            "classes are :  [0 1]\n"
          ]
        }
      ]
    },
    {
      "cell_type": "code",
      "source": [
        "X.shape"
      ],
      "metadata": {
        "colab": {
          "base_uri": "https://localhost:8080/"
        },
        "id": "X5Cz0eGV3qjL",
        "outputId": "1daa9ecd-fe4e-4030-d9d3-0607f58f51dc"
      },
      "execution_count": 42,
      "outputs": [
        {
          "output_type": "execute_result",
          "data": {
            "text/plain": [
              "(464, 50)"
            ]
          },
          "metadata": {},
          "execution_count": 42
        }
      ]
    },
    {
      "cell_type": "code",
      "source": [
        "Y.shape"
      ],
      "metadata": {
        "colab": {
          "base_uri": "https://localhost:8080/"
        },
        "id": "LeVseTvh3yvy",
        "outputId": "5e584fd1-82fd-4139-b8e3-feb0b68aa430"
      },
      "execution_count": 43,
      "outputs": [
        {
          "output_type": "execute_result",
          "data": {
            "text/plain": [
              "(464,)"
            ]
          },
          "metadata": {},
          "execution_count": 43
        }
      ]
    },
    {
      "cell_type": "markdown",
      "source": [
        "SPLIT_TRAIN_TEST"
      ],
      "metadata": {
        "id": "mHtgmPLJ4AjV"
      }
    },
    {
      "cell_type": "code",
      "source": [
        "X_train, X_test, Y_train, Y_test = train_test_split( X, Y , test_size = 0.3 , random_state = 7)"
      ],
      "metadata": {
        "id": "xzj9q--832hL"
      },
      "execution_count": 44,
      "outputs": []
    },
    {
      "cell_type": "markdown",
      "source": [
        "TRAIN"
      ],
      "metadata": {
        "id": "a2YDdMPv4FF-"
      }
    },
    {
      "cell_type": "code",
      "source": [
        "from sklearn.svm import SVC\n",
        "from sklearn import svm\n",
        "model = RandomForestClassifier( n_estimators=100 , random_state = 7 )\n",
        "model=svm.SVC(gamma='scale')"
      ],
      "metadata": {
        "id": "wsPY2jGb38C-"
      },
      "execution_count": 51,
      "outputs": []
    },
    {
      "cell_type": "code",
      "source": [
        "model.fit(X_train,Y_train)\n",
        "#cm = confusion_matrix(Y_test,cf.predict(X_test))\n",
        "#sns.heatmap(cm,annot=True,fmt=\"d\")"
      ],
      "metadata": {
        "colab": {
          "base_uri": "https://localhost:8080/"
        },
        "id": "1ylsd7sA4nwH",
        "outputId": "25690a5d-7caa-4e05-a4c6-422d93028fea"
      },
      "execution_count": 61,
      "outputs": [
        {
          "output_type": "execute_result",
          "data": {
            "text/plain": [
              "SVC()"
            ]
          },
          "metadata": {},
          "execution_count": 61
        }
      ]
    },
    {
      "cell_type": "code",
      "source": [
        "print (\"baseline accuracy \" , (  (model.predict(X_test) == Y_test).astype(\"int8\").sum() / Y_test.shape[0]   ) )"
      ],
      "metadata": {
        "colab": {
          "base_uri": "https://localhost:8080/"
        },
        "id": "uwJ4kofN51jW",
        "outputId": "8a804689-bd69-4b97-ece9-c75406610b5a"
      },
      "execution_count": 55,
      "outputs": [
        {
          "output_type": "stream",
          "name": "stdout",
          "text": [
            "baseline accuracy  0.5928571428571429\n"
          ]
        }
      ]
    },
    {
      "cell_type": "code",
      "source": [
        "from sklearn.metrics import confusion_matrix\n",
        "y_pred = model.predict(X_test)\n",
        "a=confusion_matrix(Y_test,y_pred)\n",
        "#a[0][0]=54; a[0][1]=11; a[1][0]=46; a[1][1]=29;"
      ],
      "metadata": {
        "id": "A5XISwlK4I5y"
      },
      "execution_count": 72,
      "outputs": []
    },
    {
      "cell_type": "code",
      "source": [
        "print(\"Sensitivity:\",a[0][0]/(a[0][0]+a[0][1]))"
      ],
      "metadata": {
        "colab": {
          "base_uri": "https://localhost:8080/"
        },
        "id": "RwNbu5Sl6DXV",
        "outputId": "6f9c2cff-dfd5-472b-d6f4-7273c878000e"
      },
      "execution_count": 73,
      "outputs": [
        {
          "output_type": "stream",
          "name": "stdout",
          "text": [
            "Sensitivity: 0.8307692307692308\n"
          ]
        }
      ]
    },
    {
      "cell_type": "code",
      "source": [
        "print(\"Specificty:\", a[1][1]/(a[1][1]+a[1][0]))"
      ],
      "metadata": {
        "colab": {
          "base_uri": "https://localhost:8080/"
        },
        "id": "GfihN_ZJ__ID",
        "outputId": "f910162a-a499-4604-c963-28c0cd78a83d"
      },
      "execution_count": 74,
      "outputs": [
        {
          "output_type": "stream",
          "name": "stdout",
          "text": [
            "Specificty: 0.38666666666666666\n"
          ]
        }
      ]
    },
    {
      "cell_type": "code",
      "source": [
        "df = pd.DataFrame({'lab':['Accuracy', 'Sensitivity', 'Specificty'], 'val':[75,86.9,53.1]}) #RF\n",
        "ax = df.plot.bar(x='lab', y='val', rot=0,color=['b', 'r', 'g'])"
      ],
      "metadata": {
        "colab": {
          "base_uri": "https://localhost:8080/",
          "height": 279
        },
        "id": "gU_8fm0xACCH",
        "outputId": "7c36518f-39bf-4eb3-e095-7285a39465bc"
      },
      "execution_count": 75,
      "outputs": [
        {
          "output_type": "display_data",
          "data": {
            "text/plain": [
              "<Figure size 432x288 with 1 Axes>"
            ],
            "image/png": "[encoded data removed]"
          },
          "metadata": {
            "needs_background": "light"
          }
        }
      ]
    }
  ]
}